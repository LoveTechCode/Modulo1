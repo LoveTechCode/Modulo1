{
  "nbformat": 4,
  "nbformat_minor": 0,
  "metadata": {
    "colab": {
      "name": "Sudoku v2.ipynb",
      "provenance": [],
      "collapsed_sections": [],
      "authorship_tag": "ABX9TyOA/sMga1sChh4gL/QmyM2I",
      "include_colab_link": true
    },
    "kernelspec": {
      "name": "python3",
      "display_name": "Python 3"
    }
  },
  "cells": [
    {
      "cell_type": "markdown",
      "metadata": {
        "id": "view-in-github",
        "colab_type": "text"
      },
      "source": [
        "<a href=\"https://colab.research.google.com/github/LoveTechCode/Modulo1/blob/master/Sudoku_v2.ipynb\" target=\"_parent\"><img src=\"https://colab.research.google.com/assets/colab-badge.svg\" alt=\"Open In Colab\"/></a>"
      ]
    },
    {
      "cell_type": "code",
      "metadata": {
        "id": "ZgrOBLoeb6Pu"
      },
      "source": [
        "import numpy as np\n",
        "input = np.zeros((3,3), dtype=int)"
      ],
      "execution_count": null,
      "outputs": []
    },
    {
      "cell_type": "code",
      "metadata": {
        "id": "GAqPPgFdfWb-"
      },
      "source": [
        "input[0][2] = 2\n",
        "input[1][1] = 1\n",
        "input[2][1] = 3"
      ],
      "execution_count": null,
      "outputs": []
    },
    {
      "cell_type": "code",
      "metadata": {
        "id": "W9IGDWFAhpse"
      },
      "source": [
        "def check_adjacents(input,row, column):\n",
        "  value = [1,2,3]\n",
        "  if row = 0 && column = 0:\n",
        "\n",
        "    if input[row][column+1] = 1:\n",
        "      value.pop [0]\n",
        "    if input[row][column+1] = 2:\n",
        "      value.pop [1]\n",
        "    if input[row][column+1] = 3:\n",
        "      value.pop [2]\n",
        "\n",
        "    if input[row][column+2] = 1:\n",
        "      value.pop [0]\n",
        "    if input[row][column+2] = 2:\n",
        "      value.pop [1]\n",
        "    if input[row][column+2] = 3:\n",
        "      value.pop [2]\n",
        "\n",
        "    if input[row+1][column] = 1:\n",
        "      value.pop [0]\n",
        "    if input[row+1][column] = 2:\n",
        "      value.pop [1]\n",
        "    if input[row+1][column] = 3:\n",
        "      value.pop [2]\n",
        "\n",
        "    if input[row+2][column] = 1:\n",
        "      value.pop [0]\n",
        "    if input[row+2][column] = 2:\n",
        "      value.pop [1]\n",
        "    if input[row+2][column] = 3:\n",
        "      value.pop [2]"
      ],
      "execution_count": null,
      "outputs": []
    }
  ]
}