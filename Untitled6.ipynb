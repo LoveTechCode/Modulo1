{
  "nbformat": 4,
  "nbformat_minor": 0,
  "metadata": {
    "colab": {
      "name": "Untitled6.ipynb",
      "provenance": [],
      "private_outputs": true,
      "authorship_tag": "ABX9TyMdY1cCPVmIwEKLotF/ggDB",
      "include_colab_link": true
    },
    "kernelspec": {
      "name": "python3",
      "display_name": "Python 3"
    }
  },
  "cells": [
    {
      "cell_type": "markdown",
      "metadata": {
        "id": "view-in-github",
        "colab_type": "text"
      },
      "source": [
        "<a href=\"https://colab.research.google.com/github/LoveTechCode/Modulo1/blob/master/Untitled6.ipynb\" target=\"_parent\"><img src=\"https://colab.research.google.com/assets/colab-badge.svg\" alt=\"Open In Colab\"/></a>"
      ]
    },
    {
      "cell_type": "markdown",
      "metadata": {
        "id": "LU3EAstoVEzR",
        "colab_type": "text"
      },
      "source": [
        "### Apartado 1. Declaracion de Variable"
      ]
    },
    {
      "cell_type": "code",
      "metadata": {
        "id": "ghpypDpvKe7O",
        "colab_type": "code",
        "colab": {}
      },
      "source": [
        "x=10"
      ],
      "execution_count": null,
      "outputs": []
    },
    {
      "cell_type": "markdown",
      "metadata": {
        "id": "cm1Mv2NBVMNF",
        "colab_type": "text"
      },
      "source": [
        "### Apartado 2. Recorrer una lista"
      ]
    },
    {
      "cell_type": "code",
      "metadata": {
        "id": "RY3HpGJEKuDa",
        "colab_type": "code",
        "colab": {}
      },
      "source": [
        "myList=['Hola Mundo',23.00,'Valladolid']\n",
        "\n",
        "for element in myList:\n",
        "  print (element)"
      ],
      "execution_count": null,
      "outputs": []
    },
    {
      "cell_type": "markdown",
      "metadata": {
        "id": "P3AJXlexVVvw",
        "colab_type": "text"
      },
      "source": [
        "### Apartado 3. Diccionario"
      ]
    },
    {
      "cell_type": "code",
      "metadata": {
        "id": "5ThGqJnRLNu6",
        "colab_type": "code",
        "colab": {}
      },
      "source": [
        "myDict = {'Marca':'Ford','Modelo':'Fiesta','Potencia':1500}\n",
        "myDict['Modelo']"
      ],
      "execution_count": null,
      "outputs": []
    },
    {
      "cell_type": "markdown",
      "metadata": {
        "id": "aXsPo7bDVfje",
        "colab_type": "text"
      },
      "source": [
        "### Apartado 4. Rango de una variable"
      ]
    },
    {
      "cell_type": "code",
      "metadata": {
        "id": "fT_TOCzuLpjT",
        "colab_type": "code",
        "colab": {}
      },
      "source": [
        "x = 35\n",
        "\n",
        "if 1 < x < 10:\n",
        "  print ('1<' + x + '<10')\n",
        "elif 11 < x < 20:\n",
        "  print ('11<' + x + '<20')\n",
        "elif 11 < x < 20:\n",
        "  print ('21<' + x + '<30')\n",
        "else:\n",
        "  print ('La variable no está comprendida entre los rangos')"
      ],
      "execution_count": null,
      "outputs": []
    },
    {
      "cell_type": "markdown",
      "metadata": {
        "id": "hEMJAWN6VpxL",
        "colab_type": "text"
      },
      "source": [
        "### Apartado 5. While 1-50"
      ]
    },
    {
      "cell_type": "code",
      "metadata": {
        "id": "pkOqzRCPMcMD",
        "colab_type": "code",
        "colab": {}
      },
      "source": [
        "i=1\n",
        "while i <51:\n",
        "  print (i)\n",
        "  i=i+1"
      ],
      "execution_count": null,
      "outputs": []
    },
    {
      "cell_type": "markdown",
      "metadata": {
        "id": "q_VcLbJ-VyFR",
        "colab_type": "text"
      },
      "source": [
        "### Apartado 6. IVA"
      ]
    },
    {
      "cell_type": "code",
      "metadata": {
        "id": "KpkRhjyoM6u9",
        "colab_type": "code",
        "colab": {}
      },
      "source": [
        "addIVA = lambda price : price*1.21\n",
        "\n",
        "print(str(addIVA(500)) + ' €')"
      ],
      "execution_count": null,
      "outputs": []
    },
    {
      "cell_type": "markdown",
      "metadata": {
        "id": "q_b1zzN2V3Vz",
        "colab_type": "text"
      },
      "source": [
        "### Apartado 7 y 8. Clase y Objeto Automovil"
      ]
    },
    {
      "cell_type": "code",
      "metadata": {
        "id": "trz0ISL4N27W",
        "colab_type": "code",
        "colab": {}
      },
      "source": [
        "class Automovil:\n",
        "  def __init__(self, Marca, Potencia, Modelo):\n",
        "    self.Marca = Marca\n",
        "    self.Potencia = Potencia\n",
        "    self.Modelo = Modelo\n",
        "\n",
        "  def impMarca (self):\n",
        "    print ('Marca: ' + self.Marca)\n",
        "\n",
        "  def impPotencia (self):\n",
        "    print ('Potencia: ' + str(self.Potencia))\n",
        "\n",
        "  def impModelo (self):\n",
        "    print ('Modelo: ' + self.Modelo)\n",
        "\n",
        "\n",
        "coche = Automovil('Ford',1500,'Fiesta')\n",
        "\n",
        "coche.impMarca()\n",
        "coche.impPotencia()\n",
        "coche.impModelo()"
      ],
      "execution_count": null,
      "outputs": []
    },
    {
      "cell_type": "markdown",
      "metadata": {
        "id": "pKKfWsFJWAio",
        "colab_type": "text"
      },
      "source": [
        "### Apartado 9. Herencia clase Moto"
      ]
    },
    {
      "cell_type": "code",
      "metadata": {
        "id": "1nIIi67KPvz3",
        "colab_type": "code",
        "colab": {}
      },
      "source": [
        "class Moto (Automovil):\n",
        "  def __init__(self, Marca, Potencia, Modelo, tipo_de_moto):\n",
        "    self.Marca = Marca\n",
        "    self.Potencia = Potencia\n",
        "    self.Modelo = Modelo\n",
        "    \n",
        "    if tipo_de_moto in ('trial','custom','deportiva'):\n",
        "      self.tipo_de_moto = tipo_de_moto\n",
        "    else:\n",
        "      self.tipo_de_moto = '--unknown--'\n",
        "      print ('tipo de moto no permitida')\n",
        "\n",
        "  def impTipoMoto (self):\n",
        "    print ('Tipo de moto: ' + self.tipo_de_moto)\n",
        "\n",
        "#myMoto = Moto('Kawasaki',1000,'Versys','deportiva')\n",
        "\n",
        "myMoto = Moto('Kawasaki',1000,'Versys','paseo')\n",
        "\n",
        "myMoto.impMarca()\n",
        "myMoto.impPotencia()\n",
        "myMoto.impModelo()\n",
        "myMoto.impTipoMoto()\n"
      ],
      "execution_count": null,
      "outputs": []
    },
    {
      "cell_type": "markdown",
      "metadata": {
        "id": "Zb9cfeY5Ta0T",
        "colab_type": "text"
      },
      "source": [
        "### Apartado 10. Funcion Comparar()\n"
      ]
    },
    {
      "cell_type": "code",
      "metadata": {
        "id": "n5M0PvenS6Q-",
        "colab_type": "code",
        "colab": {}
      },
      "source": [
        "def comparar(a,b):\n",
        "  if a < b:\n",
        "    print('El mayor es: '+ str(b))\n",
        "  elif a > b:\n",
        "    print ('El mayor es: '+ str(a))\n",
        "  else:\n",
        "    print('los numeros son iguales')\n",
        "  \n",
        "comparar(10,12)\n",
        "comparar(0,0)"
      ],
      "execution_count": null,
      "outputs": []
    },
    {
      "cell_type": "code",
      "metadata": {
        "id": "pcVx8V6hU0OM",
        "colab_type": "code",
        "colab": {}
      },
      "source": [
        ""
      ],
      "execution_count": null,
      "outputs": []
    },
    {
      "cell_type": "code",
      "metadata": {
        "id": "ZLPXQfCuUxYH",
        "colab_type": "code",
        "colab": {}
      },
      "source": [
        ""
      ],
      "execution_count": null,
      "outputs": []
    },
    {
      "cell_type": "code",
      "metadata": {
        "id": "vR00MK67Uvrl",
        "colab_type": "code",
        "colab": {}
      },
      "source": [
        ""
      ],
      "execution_count": null,
      "outputs": []
    },
    {
      "cell_type": "code",
      "metadata": {
        "id": "TN9L-QngUq-4",
        "colab_type": "code",
        "colab": {}
      },
      "source": [
        ""
      ],
      "execution_count": null,
      "outputs": []
    },
    {
      "cell_type": "code",
      "metadata": {
        "id": "uo8lIXTnUYkc",
        "colab_type": "code",
        "colab": {}
      },
      "source": [
        ""
      ],
      "execution_count": null,
      "outputs": []
    },
    {
      "cell_type": "code",
      "metadata": {
        "id": "f5pgBN3cUPH2",
        "colab_type": "code",
        "colab": {}
      },
      "source": [
        ""
      ],
      "execution_count": null,
      "outputs": []
    },
    {
      "cell_type": "code",
      "metadata": {
        "id": "DqyeeZ7iUHLi",
        "colab_type": "code",
        "colab": {}
      },
      "source": [
        ""
      ],
      "execution_count": null,
      "outputs": []
    },
    {
      "cell_type": "code",
      "metadata": {
        "id": "pIYi2Un4S2Gz",
        "colab_type": "code",
        "colab": {}
      },
      "source": [
        ""
      ],
      "execution_count": null,
      "outputs": []
    },
    {
      "cell_type": "code",
      "metadata": {
        "id": "1pLuyoUCSlox",
        "colab_type": "code",
        "colab": {}
      },
      "source": [
        ""
      ],
      "execution_count": null,
      "outputs": []
    },
    {
      "cell_type": "code",
      "metadata": {
        "id": "Zp4qs4ddSgql",
        "colab_type": "code",
        "colab": {}
      },
      "source": [
        ""
      ],
      "execution_count": null,
      "outputs": []
    },
    {
      "cell_type": "code",
      "metadata": {
        "id": "vxeKZVbmSdw9",
        "colab_type": "code",
        "colab": {}
      },
      "source": [
        ""
      ],
      "execution_count": null,
      "outputs": []
    },
    {
      "cell_type": "code",
      "metadata": {
        "id": "TtR5DQBASbFy",
        "colab_type": "code",
        "colab": {}
      },
      "source": [
        ""
      ],
      "execution_count": null,
      "outputs": []
    },
    {
      "cell_type": "code",
      "metadata": {
        "id": "-G5bwUijSOMF",
        "colab_type": "code",
        "colab": {}
      },
      "source": [
        ""
      ],
      "execution_count": null,
      "outputs": []
    },
    {
      "cell_type": "code",
      "metadata": {
        "id": "QzacmKZASJF6",
        "colab_type": "code",
        "colab": {}
      },
      "source": [
        ""
      ],
      "execution_count": null,
      "outputs": []
    },
    {
      "cell_type": "code",
      "metadata": {
        "id": "sDxf5RN5SCw_",
        "colab_type": "code",
        "colab": {}
      },
      "source": [
        ""
      ],
      "execution_count": null,
      "outputs": []
    },
    {
      "cell_type": "code",
      "metadata": {
        "id": "iPEc-TLLR--9",
        "colab_type": "code",
        "colab": {}
      },
      "source": [
        ""
      ],
      "execution_count": null,
      "outputs": []
    },
    {
      "cell_type": "code",
      "metadata": {
        "id": "SD592eHgPotr",
        "colab_type": "code",
        "colab": {}
      },
      "source": [
        ""
      ],
      "execution_count": null,
      "outputs": []
    },
    {
      "cell_type": "code",
      "metadata": {
        "id": "FUFLqIzGPd2v",
        "colab_type": "code",
        "colab": {}
      },
      "source": [
        ""
      ],
      "execution_count": null,
      "outputs": []
    },
    {
      "cell_type": "code",
      "metadata": {
        "id": "DVlgYpB-PYYq",
        "colab_type": "code",
        "colab": {}
      },
      "source": [
        ""
      ],
      "execution_count": null,
      "outputs": []
    },
    {
      "cell_type": "code",
      "metadata": {
        "id": "_bhj8pD8PQa3",
        "colab_type": "code",
        "colab": {}
      },
      "source": [
        ""
      ],
      "execution_count": null,
      "outputs": []
    },
    {
      "cell_type": "code",
      "metadata": {
        "id": "KoC_VJm0O2ri",
        "colab_type": "code",
        "colab": {}
      },
      "source": [
        ""
      ],
      "execution_count": null,
      "outputs": []
    },
    {
      "cell_type": "code",
      "metadata": {
        "id": "mm6ah2idOMT5",
        "colab_type": "code",
        "colab": {}
      },
      "source": [
        ""
      ],
      "execution_count": null,
      "outputs": []
    },
    {
      "cell_type": "code",
      "metadata": {
        "id": "t4EbsKfMOK7R",
        "colab_type": "code",
        "colab": {}
      },
      "source": [
        ""
      ],
      "execution_count": null,
      "outputs": []
    },
    {
      "cell_type": "code",
      "metadata": {
        "id": "6wAXSRP-OJif",
        "colab_type": "code",
        "colab": {}
      },
      "source": [
        ""
      ],
      "execution_count": null,
      "outputs": []
    },
    {
      "cell_type": "code",
      "metadata": {
        "id": "ZLzs-nhJN1Bl",
        "colab_type": "code",
        "colab": {}
      },
      "source": [
        ""
      ],
      "execution_count": null,
      "outputs": []
    },
    {
      "cell_type": "code",
      "metadata": {
        "id": "6ijMMvoWNw3y",
        "colab_type": "code",
        "colab": {}
      },
      "source": [
        ""
      ],
      "execution_count": null,
      "outputs": []
    },
    {
      "cell_type": "code",
      "metadata": {
        "id": "HH42dBJhNm6m",
        "colab_type": "code",
        "colab": {}
      },
      "source": [
        ""
      ],
      "execution_count": null,
      "outputs": []
    },
    {
      "cell_type": "code",
      "metadata": {
        "id": "UMyVfhUrNZXF",
        "colab_type": "code",
        "colab": {}
      },
      "source": [
        ""
      ],
      "execution_count": null,
      "outputs": []
    },
    {
      "cell_type": "code",
      "metadata": {
        "id": "HN2GQEbOM4o3",
        "colab_type": "code",
        "colab": {}
      },
      "source": [
        ""
      ],
      "execution_count": null,
      "outputs": []
    },
    {
      "cell_type": "code",
      "metadata": {
        "id": "SELFRpQ0Mpn7",
        "colab_type": "code",
        "colab": {}
      },
      "source": [
        ""
      ],
      "execution_count": null,
      "outputs": []
    },
    {
      "cell_type": "code",
      "metadata": {
        "id": "fsjJmKPNMfSy",
        "colab_type": "code",
        "colab": {}
      },
      "source": [
        ""
      ],
      "execution_count": null,
      "outputs": []
    },
    {
      "cell_type": "code",
      "metadata": {
        "id": "vjf_LiMOMIjT",
        "colab_type": "code",
        "colab": {}
      },
      "source": [
        ""
      ],
      "execution_count": null,
      "outputs": []
    },
    {
      "cell_type": "code",
      "metadata": {
        "id": "ifg-F85hLjCd",
        "colab_type": "code",
        "colab": {}
      },
      "source": [
        ""
      ],
      "execution_count": null,
      "outputs": []
    },
    {
      "cell_type": "code",
      "metadata": {
        "id": "pa5yQrGXLa8Q",
        "colab_type": "code",
        "colab": {}
      },
      "source": [
        ""
      ],
      "execution_count": null,
      "outputs": []
    }
  ]
}