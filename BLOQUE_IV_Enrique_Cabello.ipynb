{
  "nbformat": 4,
  "nbformat_minor": 0,
  "metadata": {
    "colab": {
      "name": "BLOQUE IV - Enrique Cabello.ipynb",
      "provenance": [],
      "collapsed_sections": [],
      "include_colab_link": true
    },
    "kernelspec": {
      "name": "python3",
      "display_name": "Python 3"
    }
  },
  "cells": [
    {
      "cell_type": "markdown",
      "metadata": {
        "id": "view-in-github",
        "colab_type": "text"
      },
      "source": [
        "<a href=\"https://colab.research.google.com/github/LoveTechCode/Modulo1/blob/master/BLOQUE_IV_Enrique_Cabello.ipynb\" target=\"_parent\"><img src=\"https://colab.research.google.com/assets/colab-badge.svg\" alt=\"Open In Colab\"/></a>"
      ]
    },
    {
      "cell_type": "markdown",
      "metadata": {
        "id": "ggHi61N0O2tP"
      },
      "source": [
        "# Ejercicio Bloque IV\n",
        "A continuación os presento el ejercicio del bloque IV, correspondiente a la introducción a la ventana de comandos, librería argparse y subprocess. \n",
        "El siguiente script realiza un modelo de clasificación de uno de los datasets más conocidos para empezar dentro del mundo del Data Science, el dataset iris. Sin entrar en detalle del modelo, este script genera un modelo de clasificación a partir de esos datos muestra la precisión del modelo. Al final del script, se encuentra comentado unas líneas de código de cómo se realizaría una predicción con este modelo. Sin embargo, está fuera del scope de este proyecto y se deja por si queréis ejecutarlas y ver cómo haríamos esta tarea en un proyecto de Data Science.\n",
        "\n",
        "Muchos de estos modelos, tienen una serie de parámetros por defecto que podemos cambiar para generar una predicción diferente. Lo que se suele hacer para no modificar cada vez que queremos hacer una prueba diferente el script, es añadir parámetros que permitan su ejecución desde la ventana de comandos. Esta va a ser nuestra tarea.\n",
        "\n",
        "Para ello, identifica primero en el script las siguientes variables: RANDOM_STATE, TEST_SIZE y N_NEIGHBORS.\n",
        "\n",
        "\n",
        "Lo que vamos a hacer, es utilizar argparse para que podamos modificar estas variables desde la ventana de comandos. \n",
        "- RANDOM_STATE: Con valor por defecto None, tiene que ser entero.\n",
        "- TEST_SIZE: Puede ser valores tipo float de 0 a 1 de 0.1 en 0.1. Por defecto 0.3\n",
        "- N_NEIGHBORS: Por defecto 3, Tiene que ser entero y mayor que 0.\n",
        "\n",
        "A posteriori, cuando tengamos creado este script, lo que haremos será generar otro desde el cual llamaremos a este usando la librería subprocess y hacemos un print del output generado por el modelo usando los parámetros por defecto definidos arriba."
      ]
    },
    {
      "cell_type": "code",
      "metadata": {
        "id": "XAAt0qOFQHK3"
      },
      "source": [
        "%%sh\n",
        "mkdir -p exercise"
      ],
      "execution_count": 1,
      "outputs": []
    },
    {
      "cell_type": "code",
      "metadata": {
        "id": "FKdjpOezQJcN",
        "outputId": "cd917aa9-e451-41fe-8e27-91e2eae88ae2",
        "colab": {
          "base_uri": "https://localhost:8080/",
          "height": 34
        }
      },
      "source": [
        "%%writefile exercise/model.py\n",
        "\n",
        "from sklearn.datasets import load_iris\n",
        "from sklearn.model_selection import train_test_split\n",
        "from sklearn.neighbors import KNeighborsClassifier\n",
        "from sklearn import metrics\n",
        "\n",
        "import argparse\n",
        "\n",
        "#### CONVIERTE LAS SIGUIENTES VARIABLES A ARGUMENTOS DE ARGPARSE\n",
        "# RANDOM_STATE: Con valor por defecto None, tiene que ser entero.\n",
        "# TEST_SIZE: Puede ser valores tipo float de 0 a 1 de 0.1 en 0.1. Por defecto 0.3\n",
        "# N_NEIGHBORS: Por defecto 3, Tiene que ser entero y mayor que 0.\n",
        "\n",
        "parser = argparse.ArgumentParser(description = 'Input Parameters for KNN Model')\n",
        "parser.add_argument('-r','--random', type = int, default = None, metavar = '', help ='RANDOM STATE')\n",
        "parser.add_argument('-t','--test_size', type = float, default = 0.3 , choices = [0.0, 0.1, 0.2, 0.3, 0.4, 0.5, 0.6, 0.7, 0.8, 0.9, 1.0],\n",
        "                    metavar = '', help = 'TEST_SIZE')\n",
        "parser.add_argument('-n','--n_neighbors', type = int, default = 3, metavar = '', help = 'N_NEIGHBORS')\n",
        "args = parser.parse_args()\n",
        "\n",
        "RANDOM_STATE = args.random\n",
        "TEST_SIZE = args.test_size\n",
        "\n",
        "if args.n_neighbors > 0:\n",
        "  N_NEIGHBORS = args.n_neighbors\n",
        "else:\n",
        "  message=\"Value should be greater than 0\"\n",
        "  raise argparse.ArgumentTypeError(message)\n",
        "\n",
        "\n",
        "# load the iris dataset as an example \n",
        "iris = load_iris()\n",
        "  \n",
        "# store the feature matrix (X) and response vector (y) \n",
        "X = iris.data \n",
        "y = iris.target \n",
        "  \n",
        "# splitting X and y into training and testing sets \n",
        "X_train, X_test, y_train, y_test = train_test_split(X, y, test_size=TEST_SIZE, random_state=RANDOM_STATE) \n",
        "  \n",
        "# training the model on training set \n",
        "knn = KNeighborsClassifier(n_neighbors=N_NEIGHBORS) \n",
        "knn.fit(X_train, y_train) \n",
        "  \n",
        "# making predictions on the testing set \n",
        "y_pred = knn.predict(X_test) \n",
        "  \n",
        "# comparing actual response values (y_test) with predicted response values (y_pred) \n",
        "print(\"model accuracy:\", metrics.accuracy_score(y_test, y_pred)) \n",
        "  \n",
        "# making prediction for out of sample data \n",
        "#sample = [[3, 5, 4, 2], [2, 3, 5, 4]] \n",
        "#preds = knn.predict(sample) \n",
        "#pred_species = [iris.target_names[p] for p in preds] \n",
        "#print(\"Predictions:\", pred_species) \n"
      ],
      "execution_count": 22,
      "outputs": [
        {
          "output_type": "stream",
          "text": [
            "Overwriting exercise/model.py\n"
          ],
          "name": "stdout"
        }
      ]
    },
    {
      "cell_type": "code",
      "metadata": {
        "id": "Sh6DH7UbQorK",
        "outputId": "95035b92-078a-434c-a268-cb9ab7cb4dbf",
        "colab": {
          "base_uri": "https://localhost:8080/",
          "height": 34
        }
      },
      "source": [
        "%%sh\n",
        "python exercise/model.py -r 1 -t 0.4 -n 3"
      ],
      "execution_count": 28,
      "outputs": [
        {
          "output_type": "stream",
          "text": [
            "model accuracy: 0.9833333333333333\n"
          ],
          "name": "stdout"
        }
      ]
    },
    {
      "cell_type": "code",
      "metadata": {
        "id": "nkictOZBoLic",
        "outputId": "5da91d4c-2568-4d64-9835-75e347b5ed95",
        "colab": {
          "base_uri": "https://localhost:8080/",
          "height": 34
        }
      },
      "source": [
        "%%sh\n",
        "python exercise/model.py"
      ],
      "execution_count": 39,
      "outputs": [
        {
          "output_type": "stream",
          "text": [
            "model accuracy: 0.9777777777777777\n"
          ],
          "name": "stdout"
        }
      ]
    },
    {
      "cell_type": "markdown",
      "metadata": {
        "id": "PIrogiBzQjTE"
      },
      "source": [
        "En la segunda parte, usa subprocess para llamar a este script generado"
      ]
    },
    {
      "cell_type": "code",
      "metadata": {
        "id": "5z9SibVaQiKI",
        "outputId": "2d3e740c-d56f-4067-f993-43097532eeb2",
        "colab": {
          "base_uri": "https://localhost:8080/",
          "height": 34
        }
      },
      "source": [
        "%%writefile exercise/call_model.py\n",
        "import subprocess\n",
        "#import model\n",
        "\n",
        "### EJECUTA EL script del modelo y haz un print del output generado con los argumentos por defecto \n",
        "\n",
        "print(subprocess.run([\"python\", \"exercise/model.py\", \"-r 1\", \"-t 0.4\", \"-n 3\"],stdout=subprocess.PIPE))\n"
      ],
      "execution_count": 79,
      "outputs": [
        {
          "output_type": "stream",
          "text": [
            "Overwriting exercise/call_model.py\n"
          ],
          "name": "stdout"
        }
      ]
    },
    {
      "cell_type": "code",
      "metadata": {
        "id": "9smR1Vr_nVOH",
        "outputId": "b2469946-6dd9-4c4f-a571-5941e3d43fd4",
        "colab": {
          "base_uri": "https://localhost:8080/",
          "height": 34
        }
      },
      "source": [
        "%%sh\n",
        "python exercise/call_model.py"
      ],
      "execution_count": 80,
      "outputs": [
        {
          "output_type": "stream",
          "text": [
            "CompletedProcess(args=['python', 'exercise/model.py', '-r 1', '-t 0.4', '-n 3'], returncode=0, stdout=b'model accuracy: 0.9833333333333333\\n')\n"
          ],
          "name": "stdout"
        }
      ]
    }
  ]
}